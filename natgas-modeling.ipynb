{
 "cells": [
  {
   "cell_type": "code",
   "execution_count": 304,
   "metadata": {},
   "outputs": [],
   "source": [
    "import numpy as np\n",
    "import pandas as pd\n",
    "import matplotlib.pylab as plt\n",
    "import seaborn as sns\n",
    "from sklearn.linear_model import LinearRegression\n",
    "from pmdarima.arima import auto_arima\n",
    "from statsmodels.tsa.statespace.sarimax import SARIMAX\n",
    "from statsmodels.tsa.stattools import adfuller"
   ]
  },
  {
   "cell_type": "markdown",
   "metadata": {},
   "source": [
    "# Part 1: Data Pre-Processing"
   ]
  },
  {
   "cell_type": "code",
   "execution_count": 378,
   "metadata": {},
   "outputs": [],
   "source": [
    "# importing the file and removing extraneous columns\n",
    "ng = pd.read_csv('ng-test.csv')\n",
    "ng = ng[['Date', 'Supply (Bcf/day)', 'Demand (Bcf/day)', 'Inventory (Bcf)',\n",
    "       'EDD', 'Price']]"
   ]
  },
  {
   "cell_type": "code",
   "execution_count": 379,
   "metadata": {},
   "outputs": [
    {
     "data": {
      "text/html": [
       "<div>\n",
       "<style scoped>\n",
       "    .dataframe tbody tr th:only-of-type {\n",
       "        vertical-align: middle;\n",
       "    }\n",
       "\n",
       "    .dataframe tbody tr th {\n",
       "        vertical-align: top;\n",
       "    }\n",
       "\n",
       "    .dataframe thead th {\n",
       "        text-align: right;\n",
       "    }\n",
       "</style>\n",
       "<table border=\"1\" class=\"dataframe\">\n",
       "  <thead>\n",
       "    <tr style=\"text-align: right;\">\n",
       "      <th></th>\n",
       "      <th>Date</th>\n",
       "      <th>Supply (Bcf/day)</th>\n",
       "      <th>Demand (Bcf/day)</th>\n",
       "      <th>Inventory (Bcf)</th>\n",
       "      <th>EDD</th>\n",
       "      <th>Price</th>\n",
       "    </tr>\n",
       "  </thead>\n",
       "  <tbody>\n",
       "    <tr>\n",
       "      <th>0</th>\n",
       "      <td>1/31/2014</td>\n",
       "      <td>67.3</td>\n",
       "      <td>98.6</td>\n",
       "      <td>1,898</td>\n",
       "      <td>33.9</td>\n",
       "      <td>4.60</td>\n",
       "    </tr>\n",
       "    <tr>\n",
       "      <th>1</th>\n",
       "      <td>2/28/2014</td>\n",
       "      <td>66.3</td>\n",
       "      <td>92.9</td>\n",
       "      <td>1,152</td>\n",
       "      <td>31.9</td>\n",
       "      <td>5.86</td>\n",
       "    </tr>\n",
       "    <tr>\n",
       "      <th>2</th>\n",
       "      <td>3/31/2014</td>\n",
       "      <td>65.8</td>\n",
       "      <td>78.3</td>\n",
       "      <td>763</td>\n",
       "      <td>23.6</td>\n",
       "      <td>4.77</td>\n",
       "    </tr>\n",
       "    <tr>\n",
       "      <th>3</th>\n",
       "      <td>4/30/2014</td>\n",
       "      <td>67.1</td>\n",
       "      <td>59.4</td>\n",
       "      <td>993</td>\n",
       "      <td>13.0</td>\n",
       "      <td>4.61</td>\n",
       "    </tr>\n",
       "    <tr>\n",
       "      <th>4</th>\n",
       "      <td>5/31/2014</td>\n",
       "      <td>67.7</td>\n",
       "      <td>51.7</td>\n",
       "      <td>1,490</td>\n",
       "      <td>8.3</td>\n",
       "      <td>4.56</td>\n",
       "    </tr>\n",
       "    <tr>\n",
       "      <th>...</th>\n",
       "      <td>...</td>\n",
       "      <td>...</td>\n",
       "      <td>...</td>\n",
       "      <td>...</td>\n",
       "      <td>...</td>\n",
       "      <td>...</td>\n",
       "    </tr>\n",
       "    <tr>\n",
       "      <th>94</th>\n",
       "      <td>11/30/2021</td>\n",
       "      <td>73.8</td>\n",
       "      <td>NaN</td>\n",
       "      <td>NaN</td>\n",
       "      <td>18.9</td>\n",
       "      <td>NaN</td>\n",
       "    </tr>\n",
       "    <tr>\n",
       "      <th>95</th>\n",
       "      <td>12/31/2021</td>\n",
       "      <td>73.9</td>\n",
       "      <td>NaN</td>\n",
       "      <td>NaN</td>\n",
       "      <td>27.5</td>\n",
       "      <td>NaN</td>\n",
       "    </tr>\n",
       "    <tr>\n",
       "      <th>96</th>\n",
       "      <td>1/31/2022</td>\n",
       "      <td>73.7</td>\n",
       "      <td>NaN</td>\n",
       "      <td>NaN</td>\n",
       "      <td>30.3</td>\n",
       "      <td>NaN</td>\n",
       "    </tr>\n",
       "    <tr>\n",
       "      <th>97</th>\n",
       "      <td>2/28/2022</td>\n",
       "      <td>73.6</td>\n",
       "      <td>NaN</td>\n",
       "      <td>NaN</td>\n",
       "      <td>27.5</td>\n",
       "      <td>NaN</td>\n",
       "    </tr>\n",
       "    <tr>\n",
       "      <th>98</th>\n",
       "      <td>3/31/2022</td>\n",
       "      <td>73.9</td>\n",
       "      <td>NaN</td>\n",
       "      <td>NaN</td>\n",
       "      <td>20.5</td>\n",
       "      <td>NaN</td>\n",
       "    </tr>\n",
       "  </tbody>\n",
       "</table>\n",
       "<p>99 rows × 6 columns</p>\n",
       "</div>"
      ],
      "text/plain": [
       "          Date  Supply (Bcf/day)  Demand (Bcf/day) Inventory (Bcf)   EDD  \\\n",
       "0    1/31/2014              67.3              98.6          1,898   33.9   \n",
       "1    2/28/2014              66.3              92.9          1,152   31.9   \n",
       "2    3/31/2014              65.8              78.3            763   23.6   \n",
       "3    4/30/2014              67.1              59.4            993   13.0   \n",
       "4    5/31/2014              67.7              51.7          1,490    8.3   \n",
       "..         ...               ...               ...             ...   ...   \n",
       "94  11/30/2021              73.8               NaN             NaN  18.9   \n",
       "95  12/31/2021              73.9               NaN             NaN  27.5   \n",
       "96   1/31/2022              73.7               NaN             NaN  30.3   \n",
       "97   2/28/2022              73.6               NaN             NaN  27.5   \n",
       "98   3/31/2022              73.9               NaN             NaN  20.5   \n",
       "\n",
       "    Price  \n",
       "0    4.60  \n",
       "1    5.86  \n",
       "2    4.77  \n",
       "3    4.61  \n",
       "4    4.56  \n",
       "..    ...  \n",
       "94    NaN  \n",
       "95    NaN  \n",
       "96    NaN  \n",
       "97    NaN  \n",
       "98    NaN  \n",
       "\n",
       "[99 rows x 6 columns]"
      ]
     },
     "execution_count": 379,
     "metadata": {},
     "output_type": "execute_result"
    }
   ],
   "source": [
    "ng"
   ]
  },
  {
   "cell_type": "code",
   "execution_count": 380,
   "metadata": {},
   "outputs": [
    {
     "data": {
      "text/plain": [
       "Date                 object\n",
       "Supply (Bcf/day)    float64\n",
       "Demand (Bcf/day)    float64\n",
       "Inventory (Bcf)      object\n",
       "EDD                 float64\n",
       "Price               float64\n",
       "dtype: object"
      ]
     },
     "execution_count": 380,
     "metadata": {},
     "output_type": "execute_result"
    }
   ],
   "source": [
    "ng.dtypes"
   ]
  },
  {
   "cell_type": "markdown",
   "metadata": {},
   "source": [
    "<b>The datatypes are not consistent!</b>"
   ]
  },
  {
   "cell_type": "code",
   "execution_count": 381,
   "metadata": {},
   "outputs": [
    {
     "data": {
      "text/plain": [
       "date         datetime64[ns]\n",
       "supply              float64\n",
       "demand              float64\n",
       "inventory           float64\n",
       "edd                 float64\n",
       "price               float64\n",
       "dtype: object"
      ]
     },
     "execution_count": 381,
     "metadata": {},
     "output_type": "execute_result"
    }
   ],
   "source": [
    "ng.columns = ['date','supply','demand','inventory','edd','price']\n",
    "ng['date'] = pd.to_datetime(ng['date'], format = \"%m/%d/%Y\")\n",
    "ng.set_index('date')\n",
    "ng['inventory'] = ng[ng['inventory'].isnull() != True].inventory.str.strip().str.replace(',','').astype(float)\n",
    "ng.dtypes"
   ]
  },
  {
   "cell_type": "markdown",
   "metadata": {},
   "source": [
    "<b>Now we're good.</b>"
   ]
  },
  {
   "cell_type": "markdown",
   "metadata": {},
   "source": [
    "# Part 2: Exploratory Data Analysis"
   ]
  },
  {
   "cell_type": "code",
   "execution_count": 382,
   "metadata": {},
   "outputs": [
    {
     "data": {
      "text/html": [
       "<div>\n",
       "<style scoped>\n",
       "    .dataframe tbody tr th:only-of-type {\n",
       "        vertical-align: middle;\n",
       "    }\n",
       "\n",
       "    .dataframe tbody tr th {\n",
       "        vertical-align: top;\n",
       "    }\n",
       "\n",
       "    .dataframe thead th {\n",
       "        text-align: right;\n",
       "    }\n",
       "</style>\n",
       "<table border=\"1\" class=\"dataframe\">\n",
       "  <thead>\n",
       "    <tr style=\"text-align: right;\">\n",
       "      <th></th>\n",
       "      <th>supply</th>\n",
       "      <th>demand</th>\n",
       "      <th>inventory</th>\n",
       "      <th>edd</th>\n",
       "      <th>price</th>\n",
       "    </tr>\n",
       "  </thead>\n",
       "  <tbody>\n",
       "    <tr>\n",
       "      <th>count</th>\n",
       "      <td>99.00</td>\n",
       "      <td>92.00</td>\n",
       "      <td>92.00</td>\n",
       "      <td>99.00</td>\n",
       "      <td>92.00</td>\n",
       "    </tr>\n",
       "    <tr>\n",
       "      <th>mean</th>\n",
       "      <td>72.88</td>\n",
       "      <td>72.79</td>\n",
       "      <td>2658.18</td>\n",
       "      <td>16.65</td>\n",
       "      <td>2.90</td>\n",
       "    </tr>\n",
       "    <tr>\n",
       "      <th>std</th>\n",
       "      <td>4.31</td>\n",
       "      <td>13.94</td>\n",
       "      <td>795.42</td>\n",
       "      <td>7.89</td>\n",
       "      <td>0.83</td>\n",
       "    </tr>\n",
       "    <tr>\n",
       "      <th>min</th>\n",
       "      <td>64.80</td>\n",
       "      <td>51.70</td>\n",
       "      <td>763.00</td>\n",
       "      <td>8.00</td>\n",
       "      <td>1.57</td>\n",
       "    </tr>\n",
       "    <tr>\n",
       "      <th>25%</th>\n",
       "      <td>69.45</td>\n",
       "      <td>61.30</td>\n",
       "      <td>2081.50</td>\n",
       "      <td>9.85</td>\n",
       "      <td>2.44</td>\n",
       "    </tr>\n",
       "    <tr>\n",
       "      <th>50%</th>\n",
       "      <td>72.60</td>\n",
       "      <td>69.45</td>\n",
       "      <td>2703.50</td>\n",
       "      <td>12.50</td>\n",
       "      <td>2.80</td>\n",
       "    </tr>\n",
       "    <tr>\n",
       "      <th>75%</th>\n",
       "      <td>76.05</td>\n",
       "      <td>82.60</td>\n",
       "      <td>3222.75</td>\n",
       "      <td>23.05</td>\n",
       "      <td>3.09</td>\n",
       "    </tr>\n",
       "    <tr>\n",
       "      <th>max</th>\n",
       "      <td>81.80</td>\n",
       "      <td>101.70</td>\n",
       "      <td>4037.00</td>\n",
       "      <td>34.00</td>\n",
       "      <td>5.86</td>\n",
       "    </tr>\n",
       "  </tbody>\n",
       "</table>\n",
       "</div>"
      ],
      "text/plain": [
       "       supply  demand  inventory    edd  price\n",
       "count   99.00   92.00      92.00  99.00  92.00\n",
       "mean    72.88   72.79    2658.18  16.65   2.90\n",
       "std      4.31   13.94     795.42   7.89   0.83\n",
       "min     64.80   51.70     763.00   8.00   1.57\n",
       "25%     69.45   61.30    2081.50   9.85   2.44\n",
       "50%     72.60   69.45    2703.50  12.50   2.80\n",
       "75%     76.05   82.60    3222.75  23.05   3.09\n",
       "max     81.80  101.70    4037.00  34.00   5.86"
      ]
     },
     "execution_count": 382,
     "metadata": {},
     "output_type": "execute_result"
    }
   ],
   "source": [
    "ng.describe().round(2)"
   ]
  },
  {
   "cell_type": "markdown",
   "metadata": {},
   "source": [
    "<b>We were already aware that some variables were missing values from the prompt and from visualization the DataFrame earlier. Now we know that there's 7 missing values for demand, inventory, and price.</b>"
   ]
  },
  {
   "cell_type": "code",
   "execution_count": 383,
   "metadata": {
    "scrolled": false
   },
   "outputs": [
    {
     "data": {
      "text/html": [
       "<div>\n",
       "<style scoped>\n",
       "    .dataframe tbody tr th:only-of-type {\n",
       "        vertical-align: middle;\n",
       "    }\n",
       "\n",
       "    .dataframe tbody tr th {\n",
       "        vertical-align: top;\n",
       "    }\n",
       "\n",
       "    .dataframe thead th {\n",
       "        text-align: right;\n",
       "    }\n",
       "</style>\n",
       "<table border=\"1\" class=\"dataframe\">\n",
       "  <thead>\n",
       "    <tr style=\"text-align: right;\">\n",
       "      <th></th>\n",
       "      <th>date</th>\n",
       "      <th>supply</th>\n",
       "      <th>demand</th>\n",
       "      <th>inventory</th>\n",
       "      <th>edd</th>\n",
       "      <th>price</th>\n",
       "    </tr>\n",
       "  </thead>\n",
       "  <tbody>\n",
       "    <tr>\n",
       "      <th>92</th>\n",
       "      <td>2021-09-30</td>\n",
       "      <td>74.4</td>\n",
       "      <td>NaN</td>\n",
       "      <td>NaN</td>\n",
       "      <td>8.2</td>\n",
       "      <td>NaN</td>\n",
       "    </tr>\n",
       "    <tr>\n",
       "      <th>93</th>\n",
       "      <td>2021-10-31</td>\n",
       "      <td>75.1</td>\n",
       "      <td>NaN</td>\n",
       "      <td>NaN</td>\n",
       "      <td>10.8</td>\n",
       "      <td>NaN</td>\n",
       "    </tr>\n",
       "    <tr>\n",
       "      <th>94</th>\n",
       "      <td>2021-11-30</td>\n",
       "      <td>73.8</td>\n",
       "      <td>NaN</td>\n",
       "      <td>NaN</td>\n",
       "      <td>18.9</td>\n",
       "      <td>NaN</td>\n",
       "    </tr>\n",
       "    <tr>\n",
       "      <th>95</th>\n",
       "      <td>2021-12-31</td>\n",
       "      <td>73.9</td>\n",
       "      <td>NaN</td>\n",
       "      <td>NaN</td>\n",
       "      <td>27.5</td>\n",
       "      <td>NaN</td>\n",
       "    </tr>\n",
       "    <tr>\n",
       "      <th>96</th>\n",
       "      <td>2022-01-31</td>\n",
       "      <td>73.7</td>\n",
       "      <td>NaN</td>\n",
       "      <td>NaN</td>\n",
       "      <td>30.3</td>\n",
       "      <td>NaN</td>\n",
       "    </tr>\n",
       "    <tr>\n",
       "      <th>97</th>\n",
       "      <td>2022-02-28</td>\n",
       "      <td>73.6</td>\n",
       "      <td>NaN</td>\n",
       "      <td>NaN</td>\n",
       "      <td>27.5</td>\n",
       "      <td>NaN</td>\n",
       "    </tr>\n",
       "    <tr>\n",
       "      <th>98</th>\n",
       "      <td>2022-03-31</td>\n",
       "      <td>73.9</td>\n",
       "      <td>NaN</td>\n",
       "      <td>NaN</td>\n",
       "      <td>20.5</td>\n",
       "      <td>NaN</td>\n",
       "    </tr>\n",
       "  </tbody>\n",
       "</table>\n",
       "</div>"
      ],
      "text/plain": [
       "         date  supply  demand  inventory   edd  price\n",
       "92 2021-09-30    74.4     NaN        NaN   8.2    NaN\n",
       "93 2021-10-31    75.1     NaN        NaN  10.8    NaN\n",
       "94 2021-11-30    73.8     NaN        NaN  18.9    NaN\n",
       "95 2021-12-31    73.9     NaN        NaN  27.5    NaN\n",
       "96 2022-01-31    73.7     NaN        NaN  30.3    NaN\n",
       "97 2022-02-28    73.6     NaN        NaN  27.5    NaN\n",
       "98 2022-03-31    73.9     NaN        NaN  20.5    NaN"
      ]
     },
     "execution_count": 383,
     "metadata": {},
     "output_type": "execute_result"
    }
   ],
   "source": [
    "# Create a selector for missing values\n",
    "nan_selector = (ng.demand.isna()) & (ng.inventory.isna()) & (ng.price.isna())\n",
    "ng[nan_selector]"
   ]
  },
  {
   "cell_type": "code",
   "execution_count": 384,
   "metadata": {},
   "outputs": [],
   "source": [
    "ng_workable = ng.loc[0:91,:]"
   ]
  },
  {
   "cell_type": "markdown",
   "metadata": {},
   "source": [
    "<b>Goal: to predict these these values</b>"
   ]
  },
  {
   "cell_type": "code",
   "execution_count": 385,
   "metadata": {},
   "outputs": [
    {
     "data": {
      "text/html": [
       "<style  type=\"text/css\" >\n",
       "    #T_8096a676_26be_11ec_8bee_9cb6d0d70ff2row0_col0 {\n",
       "            background-color:  #006837;\n",
       "            color:  #f1f1f1;\n",
       "        }    #T_8096a676_26be_11ec_8bee_9cb6d0d70ff2row0_col1 {\n",
       "            background-color:  #b1de71;\n",
       "            color:  #000000;\n",
       "        }    #T_8096a676_26be_11ec_8bee_9cb6d0d70ff2row0_col2 {\n",
       "            background-color:  #f5fbb2;\n",
       "            color:  #000000;\n",
       "        }    #T_8096a676_26be_11ec_8bee_9cb6d0d70ff2row0_col3 {\n",
       "            background-color:  #f2faae;\n",
       "            color:  #000000;\n",
       "        }    #T_8096a676_26be_11ec_8bee_9cb6d0d70ff2row0_col4 {\n",
       "            background-color:  #f98e52;\n",
       "            color:  #000000;\n",
       "        }    #T_8096a676_26be_11ec_8bee_9cb6d0d70ff2row1_col0 {\n",
       "            background-color:  #b1de71;\n",
       "            color:  #000000;\n",
       "        }    #T_8096a676_26be_11ec_8bee_9cb6d0d70ff2row1_col1 {\n",
       "            background-color:  #006837;\n",
       "            color:  #f1f1f1;\n",
       "        }    #T_8096a676_26be_11ec_8bee_9cb6d0d70ff2row1_col2 {\n",
       "            background-color:  #fdc776;\n",
       "            color:  #000000;\n",
       "        }    #T_8096a676_26be_11ec_8bee_9cb6d0d70ff2row1_col3 {\n",
       "            background-color:  #006837;\n",
       "            color:  #f1f1f1;\n",
       "        }    #T_8096a676_26be_11ec_8bee_9cb6d0d70ff2row1_col4 {\n",
       "            background-color:  #f1f9ac;\n",
       "            color:  #000000;\n",
       "        }    #T_8096a676_26be_11ec_8bee_9cb6d0d70ff2row2_col0 {\n",
       "            background-color:  #f5fbb2;\n",
       "            color:  #000000;\n",
       "        }    #T_8096a676_26be_11ec_8bee_9cb6d0d70ff2row2_col1 {\n",
       "            background-color:  #fdc776;\n",
       "            color:  #000000;\n",
       "        }    #T_8096a676_26be_11ec_8bee_9cb6d0d70ff2row2_col2 {\n",
       "            background-color:  #006837;\n",
       "            color:  #f1f1f1;\n",
       "        }    #T_8096a676_26be_11ec_8bee_9cb6d0d70ff2row2_col3 {\n",
       "            background-color:  #fdad60;\n",
       "            color:  #000000;\n",
       "        }    #T_8096a676_26be_11ec_8bee_9cb6d0d70ff2row2_col4 {\n",
       "            background-color:  #fca55d;\n",
       "            color:  #000000;\n",
       "        }    #T_8096a676_26be_11ec_8bee_9cb6d0d70ff2row3_col0 {\n",
       "            background-color:  #f2faae;\n",
       "            color:  #000000;\n",
       "        }    #T_8096a676_26be_11ec_8bee_9cb6d0d70ff2row3_col1 {\n",
       "            background-color:  #006837;\n",
       "            color:  #f1f1f1;\n",
       "        }    #T_8096a676_26be_11ec_8bee_9cb6d0d70ff2row3_col2 {\n",
       "            background-color:  #fdad60;\n",
       "            color:  #000000;\n",
       "        }    #T_8096a676_26be_11ec_8bee_9cb6d0d70ff2row3_col3 {\n",
       "            background-color:  #006837;\n",
       "            color:  #f1f1f1;\n",
       "        }    #T_8096a676_26be_11ec_8bee_9cb6d0d70ff2row3_col4 {\n",
       "            background-color:  #c9e881;\n",
       "            color:  #000000;\n",
       "        }    #T_8096a676_26be_11ec_8bee_9cb6d0d70ff2row4_col0 {\n",
       "            background-color:  #f98e52;\n",
       "            color:  #000000;\n",
       "        }    #T_8096a676_26be_11ec_8bee_9cb6d0d70ff2row4_col1 {\n",
       "            background-color:  #f1f9ac;\n",
       "            color:  #000000;\n",
       "        }    #T_8096a676_26be_11ec_8bee_9cb6d0d70ff2row4_col2 {\n",
       "            background-color:  #fca55d;\n",
       "            color:  #000000;\n",
       "        }    #T_8096a676_26be_11ec_8bee_9cb6d0d70ff2row4_col3 {\n",
       "            background-color:  #c9e881;\n",
       "            color:  #000000;\n",
       "        }    #T_8096a676_26be_11ec_8bee_9cb6d0d70ff2row4_col4 {\n",
       "            background-color:  #006837;\n",
       "            color:  #f1f1f1;\n",
       "        }</style><table id=\"T_8096a676_26be_11ec_8bee_9cb6d0d70ff2\" ><thead>    <tr>        <th class=\"blank level0\" ></th>        <th class=\"col_heading level0 col0\" >supply</th>        <th class=\"col_heading level0 col1\" >demand</th>        <th class=\"col_heading level0 col2\" >inventory</th>        <th class=\"col_heading level0 col3\" >edd</th>        <th class=\"col_heading level0 col4\" >price</th>    </tr></thead><tbody>\n",
       "                <tr>\n",
       "                        <th id=\"T_8096a676_26be_11ec_8bee_9cb6d0d70ff2level0_row0\" class=\"row_heading level0 row0\" >supply</th>\n",
       "                        <td id=\"T_8096a676_26be_11ec_8bee_9cb6d0d70ff2row0_col0\" class=\"data row0 col0\" >1.000000</td>\n",
       "                        <td id=\"T_8096a676_26be_11ec_8bee_9cb6d0d70ff2row0_col1\" class=\"data row0 col1\" >0.286276</td>\n",
       "                        <td id=\"T_8096a676_26be_11ec_8bee_9cb6d0d70ff2row0_col2\" class=\"data row0 col2\" >0.042715</td>\n",
       "                        <td id=\"T_8096a676_26be_11ec_8bee_9cb6d0d70ff2row0_col3\" class=\"data row0 col3\" >0.052717</td>\n",
       "                        <td id=\"T_8096a676_26be_11ec_8bee_9cb6d0d70ff2row0_col4\" class=\"data row0 col4\" >-0.398046</td>\n",
       "            </tr>\n",
       "            <tr>\n",
       "                        <th id=\"T_8096a676_26be_11ec_8bee_9cb6d0d70ff2level0_row1\" class=\"row_heading level0 row1\" >demand</th>\n",
       "                        <td id=\"T_8096a676_26be_11ec_8bee_9cb6d0d70ff2row1_col0\" class=\"data row1 col0\" >0.286276</td>\n",
       "                        <td id=\"T_8096a676_26be_11ec_8bee_9cb6d0d70ff2row1_col1\" class=\"data row1 col1\" >1.000000</td>\n",
       "                        <td id=\"T_8096a676_26be_11ec_8bee_9cb6d0d70ff2row1_col2\" class=\"data row1 col2\" >-0.239959</td>\n",
       "                        <td id=\"T_8096a676_26be_11ec_8bee_9cb6d0d70ff2row1_col3\" class=\"data row1 col3\" >0.956559</td>\n",
       "                        <td id=\"T_8096a676_26be_11ec_8bee_9cb6d0d70ff2row1_col4\" class=\"data row1 col4\" >0.061070</td>\n",
       "            </tr>\n",
       "            <tr>\n",
       "                        <th id=\"T_8096a676_26be_11ec_8bee_9cb6d0d70ff2level0_row2\" class=\"row_heading level0 row2\" >inventory</th>\n",
       "                        <td id=\"T_8096a676_26be_11ec_8bee_9cb6d0d70ff2row2_col0\" class=\"data row2 col0\" >0.042715</td>\n",
       "                        <td id=\"T_8096a676_26be_11ec_8bee_9cb6d0d70ff2row2_col1\" class=\"data row2 col1\" >-0.239959</td>\n",
       "                        <td id=\"T_8096a676_26be_11ec_8bee_9cb6d0d70ff2row2_col2\" class=\"data row2 col2\" >1.000000</td>\n",
       "                        <td id=\"T_8096a676_26be_11ec_8bee_9cb6d0d70ff2row2_col3\" class=\"data row2 col3\" >-0.319029</td>\n",
       "                        <td id=\"T_8096a676_26be_11ec_8bee_9cb6d0d70ff2row2_col4\" class=\"data row2 col4\" >-0.341992</td>\n",
       "            </tr>\n",
       "            <tr>\n",
       "                        <th id=\"T_8096a676_26be_11ec_8bee_9cb6d0d70ff2level0_row3\" class=\"row_heading level0 row3\" >edd</th>\n",
       "                        <td id=\"T_8096a676_26be_11ec_8bee_9cb6d0d70ff2row3_col0\" class=\"data row3 col0\" >0.052717</td>\n",
       "                        <td id=\"T_8096a676_26be_11ec_8bee_9cb6d0d70ff2row3_col1\" class=\"data row3 col1\" >0.956559</td>\n",
       "                        <td id=\"T_8096a676_26be_11ec_8bee_9cb6d0d70ff2row3_col2\" class=\"data row3 col2\" >-0.319029</td>\n",
       "                        <td id=\"T_8096a676_26be_11ec_8bee_9cb6d0d70ff2row3_col3\" class=\"data row3 col3\" >1.000000</td>\n",
       "                        <td id=\"T_8096a676_26be_11ec_8bee_9cb6d0d70ff2row3_col4\" class=\"data row3 col4\" >0.206937</td>\n",
       "            </tr>\n",
       "            <tr>\n",
       "                        <th id=\"T_8096a676_26be_11ec_8bee_9cb6d0d70ff2level0_row4\" class=\"row_heading level0 row4\" >price</th>\n",
       "                        <td id=\"T_8096a676_26be_11ec_8bee_9cb6d0d70ff2row4_col0\" class=\"data row4 col0\" >-0.398046</td>\n",
       "                        <td id=\"T_8096a676_26be_11ec_8bee_9cb6d0d70ff2row4_col1\" class=\"data row4 col1\" >0.061070</td>\n",
       "                        <td id=\"T_8096a676_26be_11ec_8bee_9cb6d0d70ff2row4_col2\" class=\"data row4 col2\" >-0.341992</td>\n",
       "                        <td id=\"T_8096a676_26be_11ec_8bee_9cb6d0d70ff2row4_col3\" class=\"data row4 col3\" >0.206937</td>\n",
       "                        <td id=\"T_8096a676_26be_11ec_8bee_9cb6d0d70ff2row4_col4\" class=\"data row4 col4\" >1.000000</td>\n",
       "            </tr>\n",
       "    </tbody></table>"
      ],
      "text/plain": [
       "<pandas.io.formats.style.Styler at 0x1f4e260bc08>"
      ]
     },
     "execution_count": 385,
     "metadata": {},
     "output_type": "execute_result"
    }
   ],
   "source": [
    "ng.corr().style.background_gradient(\n",
    "    cmap='RdYlGn', \n",
    "    axis=None, \n",
    "    vmin=-0.8, \n",
    "    vmax=0.8\n",
    ")"
   ]
  },
  {
   "cell_type": "markdown",
   "metadata": {},
   "source": [
    "<b>Notable relationships:\n",
    "- demand and edd (0.96)\n",
    "- supply and price (-0.40)\n",
    "- inventory and price (-0.34)\n",
    "- edd and inventory (-0.32)"
   ]
  },
  {
   "cell_type": "code",
   "execution_count": 386,
   "metadata": {},
   "outputs": [
    {
     "data": {
      "text/html": [
       "<style  type=\"text/css\" >\n",
       "    #T_811ff500_26be_11ec_aaaa_9cb6d0d70ff2row0_col0 {\n",
       "            background-color:  #006837;\n",
       "            color:  #f1f1f1;\n",
       "        }    #T_811ff500_26be_11ec_aaaa_9cb6d0d70ff2row0_col1 {\n",
       "            background-color:  #9bd469;\n",
       "            color:  #000000;\n",
       "        }    #T_811ff500_26be_11ec_aaaa_9cb6d0d70ff2row0_col2 {\n",
       "            background-color:  #f8fcb6;\n",
       "            color:  #000000;\n",
       "        }    #T_811ff500_26be_11ec_aaaa_9cb6d0d70ff2row0_col3 {\n",
       "            background-color:  #e6f59d;\n",
       "            color:  #000000;\n",
       "        }    #T_811ff500_26be_11ec_aaaa_9cb6d0d70ff2row0_col4 {\n",
       "            background-color:  #f7814c;\n",
       "            color:  #000000;\n",
       "        }    #T_811ff500_26be_11ec_aaaa_9cb6d0d70ff2row1_col0 {\n",
       "            background-color:  #9bd469;\n",
       "            color:  #000000;\n",
       "        }    #T_811ff500_26be_11ec_aaaa_9cb6d0d70ff2row1_col1 {\n",
       "            background-color:  #006837;\n",
       "            color:  #f1f1f1;\n",
       "        }    #T_811ff500_26be_11ec_aaaa_9cb6d0d70ff2row1_col2 {\n",
       "            background-color:  #fed481;\n",
       "            color:  #000000;\n",
       "        }    #T_811ff500_26be_11ec_aaaa_9cb6d0d70ff2row1_col3 {\n",
       "            background-color:  #006837;\n",
       "            color:  #f1f1f1;\n",
       "        }    #T_811ff500_26be_11ec_aaaa_9cb6d0d70ff2row1_col4 {\n",
       "            background-color:  #fff0a6;\n",
       "            color:  #000000;\n",
       "        }    #T_811ff500_26be_11ec_aaaa_9cb6d0d70ff2row2_col0 {\n",
       "            background-color:  #f8fcb6;\n",
       "            color:  #000000;\n",
       "        }    #T_811ff500_26be_11ec_aaaa_9cb6d0d70ff2row2_col1 {\n",
       "            background-color:  #fed481;\n",
       "            color:  #000000;\n",
       "        }    #T_811ff500_26be_11ec_aaaa_9cb6d0d70ff2row2_col2 {\n",
       "            background-color:  #006837;\n",
       "            color:  #f1f1f1;\n",
       "        }    #T_811ff500_26be_11ec_aaaa_9cb6d0d70ff2row2_col3 {\n",
       "            background-color:  #fdbf6f;\n",
       "            color:  #000000;\n",
       "        }    #T_811ff500_26be_11ec_aaaa_9cb6d0d70ff2row2_col4 {\n",
       "            background-color:  #fdc171;\n",
       "            color:  #000000;\n",
       "        }    #T_811ff500_26be_11ec_aaaa_9cb6d0d70ff2row3_col0 {\n",
       "            background-color:  #e6f59d;\n",
       "            color:  #000000;\n",
       "        }    #T_811ff500_26be_11ec_aaaa_9cb6d0d70ff2row3_col1 {\n",
       "            background-color:  #006837;\n",
       "            color:  #f1f1f1;\n",
       "        }    #T_811ff500_26be_11ec_aaaa_9cb6d0d70ff2row3_col2 {\n",
       "            background-color:  #fdbf6f;\n",
       "            color:  #000000;\n",
       "        }    #T_811ff500_26be_11ec_aaaa_9cb6d0d70ff2row3_col3 {\n",
       "            background-color:  #006837;\n",
       "            color:  #f1f1f1;\n",
       "        }    #T_811ff500_26be_11ec_aaaa_9cb6d0d70ff2row3_col4 {\n",
       "            background-color:  #f2faae;\n",
       "            color:  #000000;\n",
       "        }    #T_811ff500_26be_11ec_aaaa_9cb6d0d70ff2row4_col0 {\n",
       "            background-color:  #f7814c;\n",
       "            color:  #000000;\n",
       "        }    #T_811ff500_26be_11ec_aaaa_9cb6d0d70ff2row4_col1 {\n",
       "            background-color:  #fff0a6;\n",
       "            color:  #000000;\n",
       "        }    #T_811ff500_26be_11ec_aaaa_9cb6d0d70ff2row4_col2 {\n",
       "            background-color:  #fdc171;\n",
       "            color:  #000000;\n",
       "        }    #T_811ff500_26be_11ec_aaaa_9cb6d0d70ff2row4_col3 {\n",
       "            background-color:  #f2faae;\n",
       "            color:  #000000;\n",
       "        }    #T_811ff500_26be_11ec_aaaa_9cb6d0d70ff2row4_col4 {\n",
       "            background-color:  #006837;\n",
       "            color:  #f1f1f1;\n",
       "        }</style><table id=\"T_811ff500_26be_11ec_aaaa_9cb6d0d70ff2\" ><thead>    <tr>        <th class=\"blank level0\" ></th>        <th class=\"col_heading level0 col0\" >supply</th>        <th class=\"col_heading level0 col1\" >demand</th>        <th class=\"col_heading level0 col2\" >inventory</th>        <th class=\"col_heading level0 col3\" >edd</th>        <th class=\"col_heading level0 col4\" >price</th>    </tr></thead><tbody>\n",
       "                <tr>\n",
       "                        <th id=\"T_811ff500_26be_11ec_aaaa_9cb6d0d70ff2level0_row0\" class=\"row_heading level0 row0\" >supply</th>\n",
       "                        <td id=\"T_811ff500_26be_11ec_aaaa_9cb6d0d70ff2row0_col0\" class=\"data row0 col0\" >1.000000</td>\n",
       "                        <td id=\"T_811ff500_26be_11ec_aaaa_9cb6d0d70ff2row0_col1\" class=\"data row0 col1\" >0.347815</td>\n",
       "                        <td id=\"T_811ff500_26be_11ec_aaaa_9cb6d0d70ff2row0_col2\" class=\"data row0 col2\" >0.027071</td>\n",
       "                        <td id=\"T_811ff500_26be_11ec_aaaa_9cb6d0d70ff2row0_col3\" class=\"data row0 col3\" >0.103038</td>\n",
       "                        <td id=\"T_811ff500_26be_11ec_aaaa_9cb6d0d70ff2row0_col4\" class=\"data row0 col4\" >-0.426497</td>\n",
       "            </tr>\n",
       "            <tr>\n",
       "                        <th id=\"T_811ff500_26be_11ec_aaaa_9cb6d0d70ff2level0_row1\" class=\"row_heading level0 row1\" >demand</th>\n",
       "                        <td id=\"T_811ff500_26be_11ec_aaaa_9cb6d0d70ff2row1_col0\" class=\"data row1 col0\" >0.347815</td>\n",
       "                        <td id=\"T_811ff500_26be_11ec_aaaa_9cb6d0d70ff2row1_col1\" class=\"data row1 col1\" >1.000000</td>\n",
       "                        <td id=\"T_811ff500_26be_11ec_aaaa_9cb6d0d70ff2row1_col2\" class=\"data row1 col2\" >-0.197976</td>\n",
       "                        <td id=\"T_811ff500_26be_11ec_aaaa_9cb6d0d70ff2row1_col3\" class=\"data row1 col3\" >0.924077</td>\n",
       "                        <td id=\"T_811ff500_26be_11ec_aaaa_9cb6d0d70ff2row1_col4\" class=\"data row1 col4\" >-0.079470</td>\n",
       "            </tr>\n",
       "            <tr>\n",
       "                        <th id=\"T_811ff500_26be_11ec_aaaa_9cb6d0d70ff2level0_row2\" class=\"row_heading level0 row2\" >inventory</th>\n",
       "                        <td id=\"T_811ff500_26be_11ec_aaaa_9cb6d0d70ff2row2_col0\" class=\"data row2 col0\" >0.027071</td>\n",
       "                        <td id=\"T_811ff500_26be_11ec_aaaa_9cb6d0d70ff2row2_col1\" class=\"data row2 col1\" >-0.197976</td>\n",
       "                        <td id=\"T_811ff500_26be_11ec_aaaa_9cb6d0d70ff2row2_col2\" class=\"data row2 col2\" >1.000000</td>\n",
       "                        <td id=\"T_811ff500_26be_11ec_aaaa_9cb6d0d70ff2row2_col3\" class=\"data row2 col3\" >-0.265631</td>\n",
       "                        <td id=\"T_811ff500_26be_11ec_aaaa_9cb6d0d70ff2row2_col4\" class=\"data row2 col4\" >-0.261826</td>\n",
       "            </tr>\n",
       "            <tr>\n",
       "                        <th id=\"T_811ff500_26be_11ec_aaaa_9cb6d0d70ff2level0_row3\" class=\"row_heading level0 row3\" >edd</th>\n",
       "                        <td id=\"T_811ff500_26be_11ec_aaaa_9cb6d0d70ff2row3_col0\" class=\"data row3 col0\" >0.103038</td>\n",
       "                        <td id=\"T_811ff500_26be_11ec_aaaa_9cb6d0d70ff2row3_col1\" class=\"data row3 col1\" >0.924077</td>\n",
       "                        <td id=\"T_811ff500_26be_11ec_aaaa_9cb6d0d70ff2row3_col2\" class=\"data row3 col2\" >-0.265631</td>\n",
       "                        <td id=\"T_811ff500_26be_11ec_aaaa_9cb6d0d70ff2row3_col3\" class=\"data row3 col3\" >1.000000</td>\n",
       "                        <td id=\"T_811ff500_26be_11ec_aaaa_9cb6d0d70ff2row3_col4\" class=\"data row3 col4\" >0.053999</td>\n",
       "            </tr>\n",
       "            <tr>\n",
       "                        <th id=\"T_811ff500_26be_11ec_aaaa_9cb6d0d70ff2level0_row4\" class=\"row_heading level0 row4\" >price</th>\n",
       "                        <td id=\"T_811ff500_26be_11ec_aaaa_9cb6d0d70ff2row4_col0\" class=\"data row4 col0\" >-0.426497</td>\n",
       "                        <td id=\"T_811ff500_26be_11ec_aaaa_9cb6d0d70ff2row4_col1\" class=\"data row4 col1\" >-0.079470</td>\n",
       "                        <td id=\"T_811ff500_26be_11ec_aaaa_9cb6d0d70ff2row4_col2\" class=\"data row4 col2\" >-0.261826</td>\n",
       "                        <td id=\"T_811ff500_26be_11ec_aaaa_9cb6d0d70ff2row4_col3\" class=\"data row4 col3\" >0.053999</td>\n",
       "                        <td id=\"T_811ff500_26be_11ec_aaaa_9cb6d0d70ff2row4_col4\" class=\"data row4 col4\" >1.000000</td>\n",
       "            </tr>\n",
       "    </tbody></table>"
      ],
      "text/plain": [
       "<pandas.io.formats.style.Styler at 0x1f4e2608088>"
      ]
     },
     "execution_count": 386,
     "metadata": {},
     "output_type": "execute_result"
    }
   ],
   "source": [
    "ng.corr(method = 'spearman').style.background_gradient(\n",
    "    cmap='RdYlGn', \n",
    "    axis=None, \n",
    "    vmin=-0.8, \n",
    "    vmax=0.8\n",
    ")"
   ]
  },
  {
   "cell_type": "markdown",
   "metadata": {},
   "source": [
    "<b>Assessing monotonic relationships doesn't give us additional insight. We can then infer most features have linear relationships, if any.</b>"
   ]
  },
  {
   "cell_type": "markdown",
   "metadata": {},
   "source": [
    "# Part 3: Model Building\n",
    "\n",
    "<b>We will implement two different models to forecast demand, inventory, and price: \n",
    "    a) Linear Regression \n",
    "    b) SARIMA</b>"
   ]
  },
  {
   "cell_type": "markdown",
   "metadata": {},
   "source": [
    "## a) Linear Regression"
   ]
  },
  {
   "cell_type": "markdown",
   "metadata": {},
   "source": [
    "<b>Here we will construct three linear regression models on demand, inventory, and price.</b>"
   ]
  },
  {
   "cell_type": "markdown",
   "metadata": {},
   "source": [
    "### Demand Model"
   ]
  },
  {
   "cell_type": "code",
   "execution_count": 268,
   "metadata": {
    "scrolled": true
   },
   "outputs": [
    {
     "data": {
      "text/html": [
       "<table class=\"simpletable\">\n",
       "<caption>OLS Regression Results</caption>\n",
       "<tr>\n",
       "  <th>Dep. Variable:</th>         <td>demand</td>      <th>  R-squared:         </th> <td>   0.915</td>\n",
       "</tr>\n",
       "<tr>\n",
       "  <th>Model:</th>                   <td>OLS</td>       <th>  Adj. R-squared:    </th> <td>   0.914</td>\n",
       "</tr>\n",
       "<tr>\n",
       "  <th>Method:</th>             <td>Least Squares</td>  <th>  F-statistic:       </th> <td>   968.9</td>\n",
       "</tr>\n",
       "<tr>\n",
       "  <th>Date:</th>             <td>Wed, 06 Oct 2021</td> <th>  Prob (F-statistic):</th> <td>5.82e-50</td>\n",
       "</tr>\n",
       "<tr>\n",
       "  <th>Time:</th>                 <td>05:36:49</td>     <th>  Log-Likelihood:    </th> <td> -259.07</td>\n",
       "</tr>\n",
       "<tr>\n",
       "  <th>No. Observations:</th>      <td>    92</td>      <th>  AIC:               </th> <td>   522.1</td>\n",
       "</tr>\n",
       "<tr>\n",
       "  <th>Df Residuals:</th>          <td>    90</td>      <th>  BIC:               </th> <td>   527.2</td>\n",
       "</tr>\n",
       "<tr>\n",
       "  <th>Df Model:</th>              <td>     1</td>      <th>                     </th>     <td> </td>   \n",
       "</tr>\n",
       "<tr>\n",
       "  <th>Covariance Type:</th>      <td>nonrobust</td>    <th>                     </th>     <td> </td>   \n",
       "</tr>\n",
       "</table>\n",
       "<table class=\"simpletable\">\n",
       "<tr>\n",
       "    <td></td>       <th>coef</th>     <th>std err</th>      <th>t</th>      <th>P>|t|</th>  <th>[0.025</th>    <th>0.975]</th>  \n",
       "</tr>\n",
       "<tr>\n",
       "  <th>const</th> <td>   44.8393</td> <td>    0.994</td> <td>   45.114</td> <td> 0.000</td> <td>   42.865</td> <td>   46.814</td>\n",
       "</tr>\n",
       "<tr>\n",
       "  <th>edd</th>   <td>    1.7094</td> <td>    0.055</td> <td>   31.127</td> <td> 0.000</td> <td>    1.600</td> <td>    1.819</td>\n",
       "</tr>\n",
       "</table>\n",
       "<table class=\"simpletable\">\n",
       "<tr>\n",
       "  <th>Omnibus:</th>       <td> 6.514</td> <th>  Durbin-Watson:     </th> <td>   0.219</td>\n",
       "</tr>\n",
       "<tr>\n",
       "  <th>Prob(Omnibus):</th> <td> 0.039</td> <th>  Jarque-Bera (JB):  </th> <td>   2.825</td>\n",
       "</tr>\n",
       "<tr>\n",
       "  <th>Skew:</th>          <td> 0.073</td> <th>  Prob(JB):          </th> <td>   0.244</td>\n",
       "</tr>\n",
       "<tr>\n",
       "  <th>Kurtosis:</th>      <td> 2.154</td> <th>  Cond. No.          </th> <td>    42.3</td>\n",
       "</tr>\n",
       "</table><br/><br/>Warnings:<br/>[1] Standard Errors assume that the covariance matrix of the errors is correctly specified."
      ],
      "text/plain": [
       "<class 'statsmodels.iolib.summary.Summary'>\n",
       "\"\"\"\n",
       "                            OLS Regression Results                            \n",
       "==============================================================================\n",
       "Dep. Variable:                 demand   R-squared:                       0.915\n",
       "Model:                            OLS   Adj. R-squared:                  0.914\n",
       "Method:                 Least Squares   F-statistic:                     968.9\n",
       "Date:                Wed, 06 Oct 2021   Prob (F-statistic):           5.82e-50\n",
       "Time:                        05:36:49   Log-Likelihood:                -259.07\n",
       "No. Observations:                  92   AIC:                             522.1\n",
       "Df Residuals:                      90   BIC:                             527.2\n",
       "Df Model:                           1                                         \n",
       "Covariance Type:            nonrobust                                         \n",
       "==============================================================================\n",
       "                 coef    std err          t      P>|t|      [0.025      0.975]\n",
       "------------------------------------------------------------------------------\n",
       "const         44.8393      0.994     45.114      0.000      42.865      46.814\n",
       "edd            1.7094      0.055     31.127      0.000       1.600       1.819\n",
       "==============================================================================\n",
       "Omnibus:                        6.514   Durbin-Watson:                   0.219\n",
       "Prob(Omnibus):                  0.039   Jarque-Bera (JB):                2.825\n",
       "Skew:                           0.073   Prob(JB):                        0.244\n",
       "Kurtosis:                       2.154   Cond. No.                         42.3\n",
       "==============================================================================\n",
       "\n",
       "Warnings:\n",
       "[1] Standard Errors assume that the covariance matrix of the errors is correctly specified.\n",
       "\"\"\""
      ]
     },
     "execution_count": 268,
     "metadata": {},
     "output_type": "execute_result"
    }
   ],
   "source": [
    "edd = sm.add_constant(ng_workable.edd)\n",
    "results = sm.OLS(ng_workable.demand,edd).fit()\n",
    "results.summary()"
   ]
  },
  {
   "cell_type": "markdown",
   "metadata": {},
   "source": [
    "$$Demand = \t1.7094EDD + 44.8393$$"
   ]
  },
  {
   "cell_type": "code",
   "execution_count": 272,
   "metadata": {},
   "outputs": [
    {
     "data": {
      "text/plain": [
       "<matplotlib.axes._subplots.AxesSubplot at 0x1f4ea996a08>"
      ]
     },
     "execution_count": 272,
     "metadata": {},
     "output_type": "execute_result"
    },
    {
     "data": {
      "image/png": "[encoded data removed]",
      "text/plain": [
       "<Figure size 432x288 with 1 Axes>"
      ]
     },
     "metadata": {
      "needs_background": "light"
     },
     "output_type": "display_data"
    }
   ],
   "source": [
    "pred_demand = 1.7094*ng.loc[nan_selector,'edd']+44.8393\n",
    "ng['demand'].plot(legend = True, title = 'Demand Model', label = 'Historical Demand')\n",
    "pred_demand.plot(legend = True, label = 'Predicted Demand')"
   ]
  },
  {
   "cell_type": "markdown",
   "metadata": {},
   "source": [
    "### Inventory Model"
   ]
  },
  {
   "cell_type": "code",
   "execution_count": 217,
   "metadata": {
    "scrolled": true
   },
   "outputs": [
    {
     "data": {
      "text/html": [
       "<table class=\"simpletable\">\n",
       "<caption>OLS Regression Results</caption>\n",
       "<tr>\n",
       "  <th>Dep. Variable:</th>        <td>inventory</td>    <th>  R-squared:         </th> <td>   0.191</td>\n",
       "</tr>\n",
       "<tr>\n",
       "  <th>Model:</th>                   <td>OLS</td>       <th>  Adj. R-squared:    </th> <td>   0.164</td>\n",
       "</tr>\n",
       "<tr>\n",
       "  <th>Method:</th>             <td>Least Squares</td>  <th>  F-statistic:       </th> <td>   6.947</td>\n",
       "</tr>\n",
       "<tr>\n",
       "  <th>Date:</th>             <td>Wed, 06 Oct 2021</td> <th>  Prob (F-statistic):</th> <td>0.000300</td>\n",
       "</tr>\n",
       "<tr>\n",
       "  <th>Time:</th>                 <td>04:58:30</td>     <th>  Log-Likelihood:    </th> <td> -734.72</td>\n",
       "</tr>\n",
       "<tr>\n",
       "  <th>No. Observations:</th>      <td>    92</td>      <th>  AIC:               </th> <td>   1477.</td>\n",
       "</tr>\n",
       "<tr>\n",
       "  <th>Df Residuals:</th>          <td>    88</td>      <th>  BIC:               </th> <td>   1488.</td>\n",
       "</tr>\n",
       "<tr>\n",
       "  <th>Df Model:</th>              <td>     3</td>      <th>                     </th>     <td> </td>   \n",
       "</tr>\n",
       "<tr>\n",
       "  <th>Covariance Type:</th>      <td>nonrobust</td>    <th>                     </th>     <td> </td>   \n",
       "</tr>\n",
       "</table>\n",
       "<table class=\"simpletable\">\n",
       "<tr>\n",
       "     <td></td>       <th>coef</th>     <th>std err</th>      <th>t</th>      <th>P>|t|</th>  <th>[0.025</th>    <th>0.975]</th>  \n",
       "</tr>\n",
       "<tr>\n",
       "  <th>const</th>  <td> 2749.9148</td> <td> 1129.261</td> <td>    2.435</td> <td> 0.017</td> <td>  505.746</td> <td> 4994.084</td>\n",
       "</tr>\n",
       "<tr>\n",
       "  <th>demand</th> <td>   22.4484</td> <td>   21.377</td> <td>    1.050</td> <td> 0.297</td> <td>  -20.033</td> <td>   64.930</td>\n",
       "</tr>\n",
       "<tr>\n",
       "  <th>edd</th>    <td>  -65.9992</td> <td>   38.973</td> <td>   -1.693</td> <td> 0.094</td> <td> -143.450</td> <td>   11.452</td>\n",
       "</tr>\n",
       "<tr>\n",
       "  <th>price</th>  <td> -223.0132</td> <td>  107.326</td> <td>   -2.078</td> <td> 0.041</td> <td> -436.302</td> <td>   -9.725</td>\n",
       "</tr>\n",
       "</table>\n",
       "<table class=\"simpletable\">\n",
       "<tr>\n",
       "  <th>Omnibus:</th>       <td> 9.294</td> <th>  Durbin-Watson:     </th> <td>   0.306</td>\n",
       "</tr>\n",
       "<tr>\n",
       "  <th>Prob(Omnibus):</th> <td> 0.010</td> <th>  Jarque-Bera (JB):  </th> <td>   3.495</td>\n",
       "</tr>\n",
       "<tr>\n",
       "  <th>Skew:</th>          <td>-0.119</td> <th>  Prob(JB):          </th> <td>   0.174</td>\n",
       "</tr>\n",
       "<tr>\n",
       "  <th>Kurtosis:</th>      <td> 2.075</td> <th>  Cond. No.          </th> <td>1.14e+03</td>\n",
       "</tr>\n",
       "</table><br/><br/>Warnings:<br/>[1] Standard Errors assume that the covariance matrix of the errors is correctly specified.<br/>[2] The condition number is large, 1.14e+03. This might indicate that there are<br/>strong multicollinearity or other numerical problems."
      ],
      "text/plain": [
       "<class 'statsmodels.iolib.summary.Summary'>\n",
       "\"\"\"\n",
       "                            OLS Regression Results                            \n",
       "==============================================================================\n",
       "Dep. Variable:              inventory   R-squared:                       0.191\n",
       "Model:                            OLS   Adj. R-squared:                  0.164\n",
       "Method:                 Least Squares   F-statistic:                     6.947\n",
       "Date:                Wed, 06 Oct 2021   Prob (F-statistic):           0.000300\n",
       "Time:                        04:58:30   Log-Likelihood:                -734.72\n",
       "No. Observations:                  92   AIC:                             1477.\n",
       "Df Residuals:                      88   BIC:                             1488.\n",
       "Df Model:                           3                                         \n",
       "Covariance Type:            nonrobust                                         \n",
       "==============================================================================\n",
       "                 coef    std err          t      P>|t|      [0.025      0.975]\n",
       "------------------------------------------------------------------------------\n",
       "const       2749.9148   1129.261      2.435      0.017     505.746    4994.084\n",
       "demand        22.4484     21.377      1.050      0.297     -20.033      64.930\n",
       "edd          -65.9992     38.973     -1.693      0.094    -143.450      11.452\n",
       "price       -223.0132    107.326     -2.078      0.041    -436.302      -9.725\n",
       "==============================================================================\n",
       "Omnibus:                        9.294   Durbin-Watson:                   0.306\n",
       "Prob(Omnibus):                  0.010   Jarque-Bera (JB):                3.495\n",
       "Skew:                          -0.119   Prob(JB):                        0.174\n",
       "Kurtosis:                       2.075   Cond. No.                     1.14e+03\n",
       "==============================================================================\n",
       "\n",
       "Warnings:\n",
       "[1] Standard Errors assume that the covariance matrix of the errors is correctly specified.\n",
       "[2] The condition number is large, 1.14e+03. This might indicate that there are\n",
       "strong multicollinearity or other numerical problems.\n",
       "\"\"\""
      ]
     },
     "execution_count": 217,
     "metadata": {},
     "output_type": "execute_result"
    }
   ],
   "source": [
    "inv_X = sm.add_constant(ng_workable[['demand','edd','price']])\n",
    "results = sm.OLS(ng_workable.inventory,inv_X).fit()\n",
    "results.summary()"
   ]
  },
  {
   "cell_type": "code",
   "execution_count": 220,
   "metadata": {
    "scrolled": true
   },
   "outputs": [
    {
     "data": {
      "text/html": [
       "<table class=\"simpletable\">\n",
       "<caption>OLS Regression Results</caption>\n",
       "<tr>\n",
       "  <th>Dep. Variable:</th>        <td>inventory</td>    <th>  R-squared:         </th> <td>   0.181</td>\n",
       "</tr>\n",
       "<tr>\n",
       "  <th>Model:</th>                   <td>OLS</td>       <th>  Adj. R-squared:    </th> <td>   0.163</td>\n",
       "</tr>\n",
       "<tr>\n",
       "  <th>Method:</th>             <td>Least Squares</td>  <th>  F-statistic:       </th> <td>   9.858</td>\n",
       "</tr>\n",
       "<tr>\n",
       "  <th>Date:</th>             <td>Wed, 06 Oct 2021</td> <th>  Prob (F-statistic):</th> <td>0.000136</td>\n",
       "</tr>\n",
       "<tr>\n",
       "  <th>Time:</th>                 <td>05:02:45</td>     <th>  Log-Likelihood:    </th> <td> -735.29</td>\n",
       "</tr>\n",
       "<tr>\n",
       "  <th>No. Observations:</th>      <td>    92</td>      <th>  AIC:               </th> <td>   1477.</td>\n",
       "</tr>\n",
       "<tr>\n",
       "  <th>Df Residuals:</th>          <td>    89</td>      <th>  BIC:               </th> <td>   1484.</td>\n",
       "</tr>\n",
       "<tr>\n",
       "  <th>Df Model:</th>              <td>     2</td>      <th>                     </th>     <td> </td>   \n",
       "</tr>\n",
       "<tr>\n",
       "  <th>Covariance Type:</th>      <td>nonrobust</td>    <th>                     </th>     <td> </td>   \n",
       "</tr>\n",
       "</table>\n",
       "<table class=\"simpletable\">\n",
       "<tr>\n",
       "    <td></td>       <th>coef</th>     <th>std err</th>      <th>t</th>      <th>P>|t|</th>  <th>[0.025</th>    <th>0.975]</th>  \n",
       "</tr>\n",
       "<tr>\n",
       "  <th>const</th> <td> 3893.8963</td> <td>  297.660</td> <td>   13.082</td> <td> 0.000</td> <td> 3302.452</td> <td> 4485.341</td>\n",
       "</tr>\n",
       "<tr>\n",
       "  <th>edd</th>   <td>  -26.4387</td> <td>    9.993</td> <td>   -2.646</td> <td> 0.010</td> <td>  -46.294</td> <td>   -6.583</td>\n",
       "</tr>\n",
       "<tr>\n",
       "  <th>price</th> <td> -277.0995</td> <td>   94.215</td> <td>   -2.941</td> <td> 0.004</td> <td> -464.303</td> <td>  -89.896</td>\n",
       "</tr>\n",
       "</table>\n",
       "<table class=\"simpletable\">\n",
       "<tr>\n",
       "  <th>Omnibus:</th>       <td>13.336</td> <th>  Durbin-Watson:     </th> <td>   0.315</td>\n",
       "</tr>\n",
       "<tr>\n",
       "  <th>Prob(Omnibus):</th> <td> 0.001</td> <th>  Jarque-Bera (JB):  </th> <td>   4.362</td>\n",
       "</tr>\n",
       "<tr>\n",
       "  <th>Skew:</th>          <td>-0.177</td> <th>  Prob(JB):          </th> <td>   0.113</td>\n",
       "</tr>\n",
       "<tr>\n",
       "  <th>Kurtosis:</th>      <td> 1.994</td> <th>  Cond. No.          </th> <td>    74.3</td>\n",
       "</tr>\n",
       "</table><br/><br/>Warnings:<br/>[1] Standard Errors assume that the covariance matrix of the errors is correctly specified."
      ],
      "text/plain": [
       "<class 'statsmodels.iolib.summary.Summary'>\n",
       "\"\"\"\n",
       "                            OLS Regression Results                            \n",
       "==============================================================================\n",
       "Dep. Variable:              inventory   R-squared:                       0.181\n",
       "Model:                            OLS   Adj. R-squared:                  0.163\n",
       "Method:                 Least Squares   F-statistic:                     9.858\n",
       "Date:                Wed, 06 Oct 2021   Prob (F-statistic):           0.000136\n",
       "Time:                        05:02:45   Log-Likelihood:                -735.29\n",
       "No. Observations:                  92   AIC:                             1477.\n",
       "Df Residuals:                      89   BIC:                             1484.\n",
       "Df Model:                           2                                         \n",
       "Covariance Type:            nonrobust                                         \n",
       "==============================================================================\n",
       "                 coef    std err          t      P>|t|      [0.025      0.975]\n",
       "------------------------------------------------------------------------------\n",
       "const       3893.8963    297.660     13.082      0.000    3302.452    4485.341\n",
       "edd          -26.4387      9.993     -2.646      0.010     -46.294      -6.583\n",
       "price       -277.0995     94.215     -2.941      0.004    -464.303     -89.896\n",
       "==============================================================================\n",
       "Omnibus:                       13.336   Durbin-Watson:                   0.315\n",
       "Prob(Omnibus):                  0.001   Jarque-Bera (JB):                4.362\n",
       "Skew:                          -0.177   Prob(JB):                        0.113\n",
       "Kurtosis:                       1.994   Cond. No.                         74.3\n",
       "==============================================================================\n",
       "\n",
       "Warnings:\n",
       "[1] Standard Errors assume that the covariance matrix of the errors is correctly specified.\n",
       "\"\"\""
      ]
     },
     "execution_count": 220,
     "metadata": {},
     "output_type": "execute_result"
    }
   ],
   "source": [
    "inv_X = sm.add_constant(ng_workable[['edd','price']])\n",
    "results = sm.OLS(ng_workable.inventory,inv_X).fit()\n",
    "results.summary()"
   ]
  },
  {
   "cell_type": "markdown",
   "metadata": {},
   "source": [
    "$$Inventory = -26.4387EDD -277.0995Price + 3893.8963$$"
   ]
  },
  {
   "cell_type": "code",
   "execution_count": 275,
   "metadata": {},
   "outputs": [
    {
     "data": {
      "text/plain": [
       "<matplotlib.axes._subplots.AxesSubplot at 0x1f4eaa84448>"
      ]
     },
     "execution_count": 275,
     "metadata": {},
     "output_type": "execute_result"
    },
    {
     "data": {
      "image/png": "[encoded data removed]",
      "text/plain": [
       "<Figure size 432x288 with 1 Axes>"
      ]
     },
     "metadata": {
      "needs_background": "light"
     },
     "output_type": "display_data"
    }
   ],
   "source": [
    "pred_inventory = -26.4387*ng.loc[nan_selector,'edd'] -277.0995*ng.loc[nan_selector,'price_added']+3893.8963\n",
    "ng['inventory'].plot(legend = True, title = 'Inventory Model', label = 'Historical Inventory')\n",
    "pred_inventory.plot(legend = True, label = 'Predicted Inventory')"
   ]
  },
  {
   "cell_type": "markdown",
   "metadata": {},
   "source": [
    "### Price Model"
   ]
  },
  {
   "cell_type": "code",
   "execution_count": 225,
   "metadata": {
    "scrolled": true
   },
   "outputs": [
    {
     "data": {
      "text/html": [
       "<table class=\"simpletable\">\n",
       "<caption>OLS Regression Results</caption>\n",
       "<tr>\n",
       "  <th>Dep. Variable:</th>          <td>price</td>      <th>  R-squared:         </th> <td>   0.210</td>\n",
       "</tr>\n",
       "<tr>\n",
       "  <th>Model:</th>                   <td>OLS</td>       <th>  Adj. R-squared:    </th> <td>   0.193</td>\n",
       "</tr>\n",
       "<tr>\n",
       "  <th>Method:</th>             <td>Least Squares</td>  <th>  F-statistic:       </th> <td>   11.85</td>\n",
       "</tr>\n",
       "<tr>\n",
       "  <th>Date:</th>             <td>Wed, 06 Oct 2021</td> <th>  Prob (F-statistic):</th> <td>2.74e-05</td>\n",
       "</tr>\n",
       "<tr>\n",
       "  <th>Time:</th>                 <td>05:05:09</td>     <th>  Log-Likelihood:    </th> <td> -101.77</td>\n",
       "</tr>\n",
       "<tr>\n",
       "  <th>No. Observations:</th>      <td>    92</td>      <th>  AIC:               </th> <td>   209.5</td>\n",
       "</tr>\n",
       "<tr>\n",
       "  <th>Df Residuals:</th>          <td>    89</td>      <th>  BIC:               </th> <td>   217.1</td>\n",
       "</tr>\n",
       "<tr>\n",
       "  <th>Df Model:</th>              <td>     2</td>      <th>                     </th>     <td> </td>   \n",
       "</tr>\n",
       "<tr>\n",
       "  <th>Covariance Type:</th>      <td>nonrobust</td>    <th>                     </th>     <td> </td>   \n",
       "</tr>\n",
       "</table>\n",
       "<table class=\"simpletable\">\n",
       "<tr>\n",
       "     <td></td>       <th>coef</th>     <th>std err</th>      <th>t</th>      <th>P>|t|</th>  <th>[0.025</th>    <th>0.975]</th>  \n",
       "</tr>\n",
       "<tr>\n",
       "  <th>const</th>  <td>    8.0466</td> <td>    1.280</td> <td>    6.285</td> <td> 0.000</td> <td>    5.503</td> <td>   10.590</td>\n",
       "</tr>\n",
       "<tr>\n",
       "  <th>supply</th> <td>   -0.0761</td> <td>    0.018</td> <td>   -4.344</td> <td> 0.000</td> <td>   -0.111</td> <td>   -0.041</td>\n",
       "</tr>\n",
       "<tr>\n",
       "  <th>edd</th>    <td>    0.0242</td> <td>    0.010</td> <td>    2.418</td> <td> 0.018</td> <td>    0.004</td> <td>    0.044</td>\n",
       "</tr>\n",
       "</table>\n",
       "<table class=\"simpletable\">\n",
       "<tr>\n",
       "  <th>Omnibus:</th>       <td> 7.771</td> <th>  Durbin-Watson:     </th> <td>   0.463</td>\n",
       "</tr>\n",
       "<tr>\n",
       "  <th>Prob(Omnibus):</th> <td> 0.021</td> <th>  Jarque-Bera (JB):  </th> <td>   7.421</td>\n",
       "</tr>\n",
       "<tr>\n",
       "  <th>Skew:</th>          <td> 0.676</td> <th>  Prob(JB):          </th> <td>  0.0245</td>\n",
       "</tr>\n",
       "<tr>\n",
       "  <th>Kurtosis:</th>      <td> 3.328</td> <th>  Cond. No.          </th> <td>1.23e+03</td>\n",
       "</tr>\n",
       "</table><br/><br/>Warnings:<br/>[1] Standard Errors assume that the covariance matrix of the errors is correctly specified.<br/>[2] The condition number is large, 1.23e+03. This might indicate that there are<br/>strong multicollinearity or other numerical problems."
      ],
      "text/plain": [
       "<class 'statsmodels.iolib.summary.Summary'>\n",
       "\"\"\"\n",
       "                            OLS Regression Results                            \n",
       "==============================================================================\n",
       "Dep. Variable:                  price   R-squared:                       0.210\n",
       "Model:                            OLS   Adj. R-squared:                  0.193\n",
       "Method:                 Least Squares   F-statistic:                     11.85\n",
       "Date:                Wed, 06 Oct 2021   Prob (F-statistic):           2.74e-05\n",
       "Time:                        05:05:09   Log-Likelihood:                -101.77\n",
       "No. Observations:                  92   AIC:                             209.5\n",
       "Df Residuals:                      89   BIC:                             217.1\n",
       "Df Model:                           2                                         \n",
       "Covariance Type:            nonrobust                                         \n",
       "==============================================================================\n",
       "                 coef    std err          t      P>|t|      [0.025      0.975]\n",
       "------------------------------------------------------------------------------\n",
       "const          8.0466      1.280      6.285      0.000       5.503      10.590\n",
       "supply        -0.0761      0.018     -4.344      0.000      -0.111      -0.041\n",
       "edd            0.0242      0.010      2.418      0.018       0.004       0.044\n",
       "==============================================================================\n",
       "Omnibus:                        7.771   Durbin-Watson:                   0.463\n",
       "Prob(Omnibus):                  0.021   Jarque-Bera (JB):                7.421\n",
       "Skew:                           0.676   Prob(JB):                       0.0245\n",
       "Kurtosis:                       3.328   Cond. No.                     1.23e+03\n",
       "==============================================================================\n",
       "\n",
       "Warnings:\n",
       "[1] Standard Errors assume that the covariance matrix of the errors is correctly specified.\n",
       "[2] The condition number is large, 1.23e+03. This might indicate that there are\n",
       "strong multicollinearity or other numerical problems.\n",
       "\"\"\""
      ]
     },
     "execution_count": 225,
     "metadata": {},
     "output_type": "execute_result"
    }
   ],
   "source": [
    "p_X = sm.add_constant(ng_workable[['supply','edd']])\n",
    "results = sm.OLS(ng_workable.price,p_X).fit()\n",
    "results.summary()"
   ]
  },
  {
   "cell_type": "markdown",
   "metadata": {},
   "source": [
    "$$Price = -0.0761Supply + 0.0242EDD + 8.0466$$"
   ]
  },
  {
   "cell_type": "code",
   "execution_count": 279,
   "metadata": {},
   "outputs": [
    {
     "data": {
      "text/plain": [
       "<matplotlib.axes._subplots.AxesSubplot at 0x1f4eabdab88>"
      ]
     },
     "execution_count": 279,
     "metadata": {},
     "output_type": "execute_result"
    },
    {
     "data": {
      "image/png": "[encoded data removed]",
      "text/plain": [
       "<Figure size 432x288 with 1 Axes>"
      ]
     },
     "metadata": {
      "needs_background": "light"
     },
     "output_type": "display_data"
    }
   ],
   "source": [
    "pred_price = -0.0761*ng.loc[nan_selector,'supply'] + 0.0242*ng.loc[nan_selector,'edd'] + 8.0466\n",
    "ng['price'].plot(legend = True, title = 'Price Model', label = 'Historical Price')\n",
    "pred_price.plot(legend = True, label = 'Predicted Price')"
   ]
  },
  {
   "cell_type": "code",
   "execution_count": 277,
   "metadata": {},
   "outputs": [],
   "source": [
    "# Needed for Inventory Calculation\n",
    "ng.loc[nan_selector,'price_added'] = -0.0761*ng.loc[nan_selector,'supply'] + 0.0242*ng.loc[nan_selector,'edd'] + 8.0466"
   ]
  },
  {
   "cell_type": "code",
   "execution_count": null,
   "metadata": {},
   "outputs": [],
   "source": [
    "# Add values OPTIONAL\n",
    "ng.loc[nan_selector,'demand'] = 1.7094*ng.loc[nan_selector,'edd']+44.8393\n",
    "ng.loc[nan_selector,'demand']\n",
    "ng.loc[nan_selector,'inventory'] = -26.4387*ng.loc[nan_selector,'edd'] -277.0995*ng.loc[nan_selector,'price']+3893.8963\n",
    "ng.loc[nan_selector,'inventory']\n",
    "ng.loc[nan_selector,'price_added'] = -0.0761*ng.loc[nan_selector,'supply'] + 0.0242*ng.loc[nan_selector,'edd'] + 8.0466\n",
    "ng.loc[nan_selector,'price']"
   ]
  },
  {
   "cell_type": "markdown",
   "metadata": {},
   "source": [
    "## b) SARIMA (Seasonal Auto Regressive Integrated Moving Average)"
   ]
  },
  {
   "cell_type": "markdown",
   "metadata": {},
   "source": [
    "### Stationarity Tests (ADF)"
   ]
  },
  {
   "cell_type": "code",
   "execution_count": 387,
   "metadata": {},
   "outputs": [],
   "source": [
    "def adf_test(series):\n",
    "    result = adfuller(series)\n",
    "    print('\\n'+str.capitalize(series.name))\n",
    "    print('ADF Statistic: %f' % result[0])\n",
    "    print('p-value: %f' % result[1])\n",
    "    print('Critical Values:')\n",
    "    for key, value in result[4].items():\n",
    "        print('\\t%s: %.3f' % (key, value))"
   ]
  },
  {
   "cell_type": "code",
   "execution_count": 388,
   "metadata": {},
   "outputs": [
    {
     "name": "stdout",
     "output_type": "stream",
     "text": [
      "\n",
      "Demand\n",
      "ADF Statistic: -0.988809\n",
      "p-value: 0.757324\n",
      "Critical Values:\n",
      "\t1%: -3.515\n",
      "\t5%: -2.898\n",
      "\t10%: -2.586\n",
      "\n",
      "Inventory\n",
      "ADF Statistic: -4.014202\n",
      "p-value: 0.001338\n",
      "Critical Values:\n",
      "\t1%: -3.516\n",
      "\t5%: -2.899\n",
      "\t10%: -2.587\n",
      "\n",
      "Price\n",
      "ADF Statistic: -3.552125\n",
      "p-value: 0.006745\n",
      "Critical Values:\n",
      "\t1%: -3.505\n",
      "\t5%: -2.894\n",
      "\t10%: -2.584\n"
     ]
    }
   ],
   "source": [
    "pred_cols = ng_workable[['demand','inventory','price']]\n",
    "for col in pred_cols:\n",
    "    adf_test(ng_workable[col])"
   ]
  },
  {
   "cell_type": "code",
   "execution_count": 409,
   "metadata": {
    "scrolled": true
   },
   "outputs": [
    {
     "name": "stdout",
     "output_type": "stream",
     "text": [
      "\n",
      "Log_demand\n",
      "ADF Statistic: -1.151686\n",
      "p-value: 0.694027\n",
      "Critical Values:\n",
      "\t1%: -3.515\n",
      "\t5%: -2.898\n",
      "\t10%: -2.586\n",
      "\n",
      "Normalized_demand\n",
      "ADF Statistic: -3.456921\n",
      "p-value: 0.009165\n",
      "Critical Values:\n",
      "\t1%: -3.515\n",
      "\t5%: -2.898\n",
      "\t10%: -2.586\n"
     ]
    }
   ],
   "source": [
    "ng_workable.loc[:,'log_demand'] = np.log(ng_workable['demand'])\n",
    "adf_test(ng_workable['log_demand'].dropna())\n",
    "\n",
    "ng_workable.loc[:,'normalized_demand'] = ng_workable['demand'] - ng_workable['demand'].rolling(window = 4).mean()\n",
    "ng_workable.loc[0:2,'normalized_demand'] = np.log(ng_workable['demand'])\n",
    "adf_test(ng_workable['normalized_demand'])\n",
    "\n",
    "#ng_workable['normalized_demand'].plot(legend = True, label = 'Predicted Normalized Demand')"
   ]
  },
  {
   "cell_type": "markdown",
   "metadata": {},
   "source": [
    "### Normalized Demand Model"
   ]
  },
  {
   "cell_type": "code",
   "execution_count": 411,
   "metadata": {},
   "outputs": [
    {
     "data": {
      "text/plain": [
       "<matplotlib.axes._subplots.AxesSubplot at 0x1f4ead1ce48>"
      ]
     },
     "execution_count": 411,
     "metadata": {},
     "output_type": "execute_result"
    },
    {
     "data": {
      "image/png": "[encoded data removed]",
      "text/plain": [
       "<Figure size 432x288 with 1 Axes>"
      ]
     },
     "metadata": {
      "needs_background": "light"
     },
     "output_type": "display_data"
    }
   ],
   "source": [
    "auto_arima(ng_workable['normalized_demand'], seasonal = True, m = 12, start_p = 0, start_q = 0, max_P = 5, max_D = 5, max_Q = 5).summary()\n",
    "ng['normalized_demand'] = ng_workable['normalized_demand']\n",
    "arima_model = SARIMAX(ng_workable['normalized_demand'], order = (0,0,1), seasonal_order = (1,1,[],12))\n",
    "arima_result = arima_model.fit()\n",
    "arima_result.summary()\n",
    "\n",
    "sarima_pred = arima_result.predict(start = 92, end = 98)\n",
    "ng['normalized_demand'].plot(legend = True, title = 'Normalized Demand Model', label = 'Historical Normalized Demand')\n",
    "sarima_pred.plot(legend = True, label = 'Predicted Normalized Demand')"
   ]
  },
  {
   "cell_type": "markdown",
   "metadata": {},
   "source": [
    "### Inventory Model"
   ]
  },
  {
   "cell_type": "code",
   "execution_count": 283,
   "metadata": {},
   "outputs": [
    {
     "name": "stderr",
     "output_type": "stream",
     "text": [
      "C:\\ProgramData\\Anaconda3\\lib\\site-packages\\statsmodels\\tsa\\statespace\\sarimax.py:975: UserWarning: Non-invertible starting MA parameters found. Using zeros as starting parameters.\n",
      "  warn('Non-invertible starting MA parameters found.'\n"
     ]
    },
    {
     "data": {
      "text/plain": [
       "<matplotlib.axes._subplots.AxesSubplot at 0x1f4c0dea548>"
      ]
     },
     "execution_count": 283,
     "metadata": {},
     "output_type": "execute_result"
    },
    {
     "data": {
      "image/png": "[encoded data removed]",
      "text/plain": [
       "<Figure size 432x288 with 1 Axes>"
      ]
     },
     "metadata": {
      "needs_background": "light"
     },
     "output_type": "display_data"
    }
   ],
   "source": [
    "auto_arima(ng_workable['inventory'], seasonal = True, m = 12, start_p = 0, start_q = 0, max_P = 5, max_D = 5, max_Q = 5).summary()\n",
    "\n",
    "arima_model = SARIMAX(ng_workable['inventory'], order = (0,0,1), seasonal_order = (1,1,[],12))\n",
    "arima_result = arima_model.fit()\n",
    "arima_result.summary()\n",
    "\n",
    "sarima_pred = arima_result.predict(start = 92, end = 98)\n",
    "ng['inventory'].plot(legend = True, title = 'Inventory Model', label = 'Historical Inventory')\n",
    "sarima_pred.plot(legend = True, label = 'Predicted Inventory')"
   ]
  },
  {
   "cell_type": "markdown",
   "metadata": {},
   "source": [
    "### Price Model"
   ]
  },
  {
   "cell_type": "code",
   "execution_count": 284,
   "metadata": {},
   "outputs": [
    {
     "data": {
      "text/plain": [
       "<matplotlib.axes._subplots.AxesSubplot at 0x1f4c33d1808>"
      ]
     },
     "execution_count": 284,
     "metadata": {},
     "output_type": "execute_result"
    },
    {
     "data": {
      "image/png": "[encoded data removed]",
      "text/plain": [
       "<Figure size 432x288 with 1 Axes>"
      ]
     },
     "metadata": {
      "needs_background": "light"
     },
     "output_type": "display_data"
    }
   ],
   "source": [
    "auto_arima(ng_workable['price'], seasonal = True, m = 12, start_p = 0, start_q = 0, max_P = 5, max_D = 5, max_Q = 5).summary()\n",
    "\n",
    "arima_model = SARIMAX(ng_workable['price'], order = (0,0,1), seasonal_order = (1,1,[],12))\n",
    "arima_result = arima_model.fit()\n",
    "arima_result.summary()\n",
    "\n",
    "sarima_pred = arima_result.predict(start = 92, end = 98)\n",
    "ng['price'].plot(legend = True, title = 'Price Model', label = 'Historical Price')\n",
    "sarima_pred.plot(legend = True, label = 'Predicted Price')"
   ]
  },
  {
   "cell_type": "markdown",
   "metadata": {},
   "source": [
    "\n",
    "# Additional Notes"
   ]
  },
  {
   "cell_type": "markdown",
   "metadata": {},
   "source": [
    "*Linear Regression:*\n",
    "\n",
    "Pros:\n",
    "- simple, replicable model\n",
    "- applies intrinsic, atemporal relationships within data\n",
    "\n",
    "Cons:\n",
    "- linear relationships assumed by correl/OLS\n",
    "- chain of dependent assumptions\n",
    "- accuracy/smoothness\n",
    "\n",
    "*SARIMA:*\n",
    "\n",
    "Pros:\n",
    "- Accounts for seasonality, non-linear trends\n",
    "- accuracy/smoothness\n",
    "\n",
    "Cons:\n",
    "\n",
    "- Fit past data when past data is not usually indicative of future trends."
   ]
  },
  {
   "cell_type": "code",
   "execution_count": null,
   "metadata": {},
   "outputs": [],
   "source": []
  }
 ],
 "metadata": {
  "kernelspec": {
   "display_name": "Python 3",
   "language": "python",
   "name": "python3"
  },
  "language_info": {
   "codemirror_mode": {
    "name": "ipython",
    "version": 3
   },
   "file_extension": ".py",
   "mimetype": "text/x-python",
   "name": "python",
   "nbconvert_exporter": "python",
   "pygments_lexer": "ipython3",
   "version": "3.7.6"
  }
 },
 "nbformat": 4,
 "nbformat_minor": 4
}
